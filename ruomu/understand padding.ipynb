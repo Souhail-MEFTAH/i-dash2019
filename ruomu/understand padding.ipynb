{
 "cells": [
  {
   "cell_type": "code",
   "execution_count": 21,
   "metadata": {},
   "outputs": [],
   "source": [
    "# The model definition provided\n",
    "import sklearn as sk\n",
    "from sklearn.model_selection import train_test_split\n",
    "import matplotlib.pyplot as plt\n",
    "import random\n",
    "import math\n",
    "import tensorflow as tf\n",
    "import tensorflow.keras as k\n",
    "from keras import backend as K\n",
    "# from keras.callbacks import EarlyStopping, ModelCheckpoint, ReduceLROnPlateau\n",
    "from tensorflow.keras.layers import Conv1D, Input, Dense, concatenate, Flatten, Add, Activation, BatchNormalization, Reshape\n",
    "from tensorflow.keras import Model\n",
    "import sys"
   ]
  },
  {
   "cell_type": "code",
   "execution_count": 22,
   "metadata": {},
   "outputs": [],
   "source": [
    "import pandas as pd\n",
    "import numpy as np\n",
    "\n",
    "data1 = pd.read_csv(\"GSE2034-Normal-train.txt\", sep=\"\\t\")\n",
    "data2 = pd.read_csv(\"GSE2034-Tumor-train.txt\", sep=\"\\t\")\n",
    "# data format:\n",
    "# ----------- HEADER LINE ------------\n",
    "# 2 s1g1 s2g1 s3g1 ... sng1\n",
    "# 9 s1g2 s2ge s3g2 ... sng2\n",
    "#          ...........\n",
    "# k s1g12634 s2g12634 ... sng12634\n",
    "# use data1.head() to see\n",
    "data1 = data1.values[:,1:].transpose()\n",
    "data2 = data2.values[:,1:].transpose()\n",
    "data1Label = np.zeros(len(data1)).reshape((-1, 1))\n",
    "data2Label = np.ones(len(data2)).reshape((-1, 1))\n",
    "x = np.concatenate((data1, data2))\n",
    "y = np.concatenate((data1Label, data2Label))"
   ]
  },
  {
   "cell_type": "code",
   "execution_count": 53,
   "metadata": {},
   "outputs": [],
   "source": [
    "dim = 10\n",
    "def res1d(x1, layers, kernel=(3,), strides=1,):    \n",
    "    ConvLayer = k.layers.Conv1D        \n",
    "    normalizer = BatchNormalization\n",
    "\n",
    "    c1 = x1        \n",
    "    c1 = ConvLayer(layers, kernel_size=kernel, use_bias=0, strides=strides, padding='same')(c1)        \n",
    "    c1 = normalizer(gamma_initializer='zeros')(c1)\n",
    "    \n",
    "    o1 = x1\n",
    "    if strides > 1 or K.int_shape(x1)[-1] != layers:\n",
    "        if strides > 1:\n",
    "            o1 = k.layers.ZeroPadding1D((0, strides-1))(o1)\n",
    "            o1 = k.layers.AveragePooling1D(strides)(o1)\n",
    "        o1 = ConvLayer(layers, kernel_size=1, use_bias=0, padding='same')(o1)\n",
    "        o1 = normalizer()(o1)\n",
    "    print_op1 = tf.print(\"o1:\", o1, output_stream=sys.stdout, summarize=-1)\n",
    "    print_op2 = tf.print(\"c1:\", c1, output_stream=sys.stdout, summarize=-1)\n",
    "    with tf.control_dependencies([print_op1, print_op2]):\n",
    "        v1 = Add()([c1, o1])\n",
    "    v1 = Activation('relu')(v1)\n",
    "    return v1\n",
    "\n",
    "def build():\n",
    "    inp = Input(shape=(dim,)) # length of input\n",
    "    \n",
    "    v1 = k.layers.Reshape((-1, 1))(inp)\n",
    "    v1 = res1d(v1, 4, 3, strides=2)\n",
    "\n",
    "    model = k.models.Model(inputs=inp, outputs=v1)\n",
    "    return model"
   ]
  },
  {
   "cell_type": "code",
   "execution_count": 54,
   "metadata": {},
   "outputs": [
    {
     "data": {
      "text/plain": [
       "(1, 10)"
      ]
     },
     "execution_count": 54,
     "metadata": {},
     "output_type": "execute_result"
    }
   ],
   "source": [
    "model = build()\n",
    "data1.shape\n",
    "inputarray = np.array([[1,2,3,4,5,6,7,8,9,10]])\n",
    "inputarray.shape"
   ]
  },
  {
   "cell_type": "code",
   "execution_count": 55,
   "metadata": {},
   "outputs": [
    {
     "name": "stdout",
     "output_type": "stream",
     "text": [
      "c1: [[[0 0 0 0]\n",
      "  [0 0 0 0]\n",
      "  [0 0 0 0]\n",
      "  [0 0 0 0]\n",
      "  [0 0 0 0]]]\n",
      "o1: [[[-0.607571423 1.4711225 -0.235185936 1.0158174]\n",
      "  [-1.41766667 3.43261933 -0.548767209 2.37024045]\n",
      "  [-2.22776175 5.39411592 -0.862348437 3.7246635]\n",
      "  [-3.03785706 7.35561275 -1.17592967 5.07908678]\n",
      "  [-3.84795237 9.31711 -1.48951089 6.43351]]]\n"
     ]
    }
   ],
   "source": [
    "model.compile(optimizer=k.optimizers.Adam(lr=0.0001), metrics=['acc'], loss='binary_crossentropy')\n",
    "model.predict(inputarray)\n",
    "pass"
   ]
  },
  {
   "cell_type": "code",
   "execution_count": null,
   "metadata": {},
   "outputs": [],
   "source": []
  }
 ],
 "metadata": {
  "kernelspec": {
   "display_name": "Python 3",
   "language": "python",
   "name": "python3"
  },
  "language_info": {
   "codemirror_mode": {
    "name": "ipython",
    "version": 3
   },
   "file_extension": ".py",
   "mimetype": "text/x-python",
   "name": "python",
   "nbconvert_exporter": "python",
   "pygments_lexer": "ipython3",
   "version": "3.6.8"
  }
 },
 "nbformat": 4,
 "nbformat_minor": 2
}
