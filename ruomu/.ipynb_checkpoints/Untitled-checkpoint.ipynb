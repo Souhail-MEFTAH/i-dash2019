{
 "cells": [
  {
   "cell_type": "code",
   "execution_count": 5,
   "metadata": {},
   "outputs": [],
   "source": [
    "import argparse\n",
    "import numpy as np\n",
    "from itertools import count\n",
    "import time\n",
    "import math\n",
    "\n",
    "import torch\n",
    "import torch.nn as nn\n",
    "import torch.nn.functional as F\n",
    "import torch.optim as optim\n",
    "from torch.distributions import Categorical\n",
    "d1 = torch.device(\"cuda:0\")\n",
    "d2 = torch.device(\"cuda:1\")"
   ]
  },
  {
   "cell_type": "code",
   "execution_count": 6,
   "metadata": {},
   "outputs": [],
   "source": [
    "# input_test = torch.randn(80, 1, dim).float().cuda()\n",
    "class Net(nn.Module):\n",
    "    def __init__(self, i=1):\n",
    "        super(Net, self).__init__()\n",
    "        i = math.ceil(i)\n",
    "        if not i >= 1:\n",
    "            i = 1\n",
    "        self.l1 = nn.Linear(i, i)\n",
    "        \n",
    "    \n",
    "    def forward(self, x):\n",
    "        y = self.l1(x)\n",
    "        return y"
   ]
  },
  {
   "cell_type": "code",
   "execution_count": null,
   "metadata": {},
   "outputs": [],
   "source": [
    "nets = []\n",
    "i = 0\n",
    "size = 500\n",
    "while True:\n",
    "    i += 1\n",
    "    size = size + 1\n",
    "    try:\n",
    "        net = Net(size).to(d1)\n",
    "        nets.append(net)\n",
    "    except:\n",
    "        size /= 2\n",
    "        time.sleep(0.5)\n",
    "    try:\n",
    "        net = Net(size).to(d2)\n",
    "        nets.append(net)\n",
    "    except:\n",
    "        size /= 2\n",
    "        time.sleep(0.5)\n",
    "    print(size)"
   ]
  },
  {
   "cell_type": "code",
   "execution_count": null,
   "metadata": {},
   "outputs": [],
   "source": []
  }
 ],
 "metadata": {
  "kernelspec": {
   "display_name": "Python 3",
   "language": "python",
   "name": "python3"
  },
  "language_info": {
   "codemirror_mode": {
    "name": "ipython",
    "version": 3
   },
   "file_extension": ".py",
   "mimetype": "text/x-python",
   "name": "python",
   "nbconvert_exporter": "python",
   "pygments_lexer": "ipython3",
   "version": "3.6.8"
  }
 },
 "nbformat": 4,
 "nbformat_minor": 2
}
