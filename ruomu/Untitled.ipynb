{
 "cells": [
  {
   "cell_type": "code",
   "execution_count": 1,
   "metadata": {},
   "outputs": [
    {
     "name": "stderr",
     "output_type": "stream",
     "text": [
      "Using TensorFlow backend.\n",
      "/home/h/houruomu/.local/lib/python3.6/site-packages/tensorflow/python/framework/dtypes.py:516: FutureWarning: Passing (type, 1) or '1type' as a synonym of type is deprecated; in a future version of numpy, it will be understood as (type, (1,)) / '(1,)type'.\n",
      "  _np_qint8 = np.dtype([(\"qint8\", np.int8, 1)])\n",
      "/home/h/houruomu/.local/lib/python3.6/site-packages/tensorflow/python/framework/dtypes.py:517: FutureWarning: Passing (type, 1) or '1type' as a synonym of type is deprecated; in a future version of numpy, it will be understood as (type, (1,)) / '(1,)type'.\n",
      "  _np_quint8 = np.dtype([(\"quint8\", np.uint8, 1)])\n",
      "/home/h/houruomu/.local/lib/python3.6/site-packages/tensorflow/python/framework/dtypes.py:518: FutureWarning: Passing (type, 1) or '1type' as a synonym of type is deprecated; in a future version of numpy, it will be understood as (type, (1,)) / '(1,)type'.\n",
      "  _np_qint16 = np.dtype([(\"qint16\", np.int16, 1)])\n",
      "/home/h/houruomu/.local/lib/python3.6/site-packages/tensorflow/python/framework/dtypes.py:519: FutureWarning: Passing (type, 1) or '1type' as a synonym of type is deprecated; in a future version of numpy, it will be understood as (type, (1,)) / '(1,)type'.\n",
      "  _np_quint16 = np.dtype([(\"quint16\", np.uint16, 1)])\n",
      "/home/h/houruomu/.local/lib/python3.6/site-packages/tensorflow/python/framework/dtypes.py:520: FutureWarning: Passing (type, 1) or '1type' as a synonym of type is deprecated; in a future version of numpy, it will be understood as (type, (1,)) / '(1,)type'.\n",
      "  _np_qint32 = np.dtype([(\"qint32\", np.int32, 1)])\n",
      "/home/h/houruomu/.local/lib/python3.6/site-packages/tensorflow/python/framework/dtypes.py:525: FutureWarning: Passing (type, 1) or '1type' as a synonym of type is deprecated; in a future version of numpy, it will be understood as (type, (1,)) / '(1,)type'.\n",
      "  np_resource = np.dtype([(\"resource\", np.ubyte, 1)])\n",
      "/home/h/houruomu/.local/lib/python3.6/site-packages/tensorboard/compat/tensorflow_stub/dtypes.py:541: FutureWarning: Passing (type, 1) or '1type' as a synonym of type is deprecated; in a future version of numpy, it will be understood as (type, (1,)) / '(1,)type'.\n",
      "  _np_qint8 = np.dtype([(\"qint8\", np.int8, 1)])\n",
      "/home/h/houruomu/.local/lib/python3.6/site-packages/tensorboard/compat/tensorflow_stub/dtypes.py:542: FutureWarning: Passing (type, 1) or '1type' as a synonym of type is deprecated; in a future version of numpy, it will be understood as (type, (1,)) / '(1,)type'.\n",
      "  _np_quint8 = np.dtype([(\"quint8\", np.uint8, 1)])\n",
      "/home/h/houruomu/.local/lib/python3.6/site-packages/tensorboard/compat/tensorflow_stub/dtypes.py:543: FutureWarning: Passing (type, 1) or '1type' as a synonym of type is deprecated; in a future version of numpy, it will be understood as (type, (1,)) / '(1,)type'.\n",
      "  _np_qint16 = np.dtype([(\"qint16\", np.int16, 1)])\n",
      "/home/h/houruomu/.local/lib/python3.6/site-packages/tensorboard/compat/tensorflow_stub/dtypes.py:544: FutureWarning: Passing (type, 1) or '1type' as a synonym of type is deprecated; in a future version of numpy, it will be understood as (type, (1,)) / '(1,)type'.\n",
      "  _np_quint16 = np.dtype([(\"quint16\", np.uint16, 1)])\n",
      "/home/h/houruomu/.local/lib/python3.6/site-packages/tensorboard/compat/tensorflow_stub/dtypes.py:545: FutureWarning: Passing (type, 1) or '1type' as a synonym of type is deprecated; in a future version of numpy, it will be understood as (type, (1,)) / '(1,)type'.\n",
      "  _np_qint32 = np.dtype([(\"qint32\", np.int32, 1)])\n",
      "/home/h/houruomu/.local/lib/python3.6/site-packages/tensorboard/compat/tensorflow_stub/dtypes.py:550: FutureWarning: Passing (type, 1) or '1type' as a synonym of type is deprecated; in a future version of numpy, it will be understood as (type, (1,)) / '(1,)type'.\n",
      "  np_resource = np.dtype([(\"resource\", np.ubyte, 1)])\n"
     ]
    }
   ],
   "source": [
    "# The model definition provided\n",
    "import sklearn as sk\n",
    "from sklearn.model_selection import train_test_split\n",
    "import matplotlib.pyplot as plt\n",
    "import random\n",
    "import math\n",
    "import keras as k\n",
    "from keras import backend as K\n",
    "# from keras.callbacks import EarlyStopping, ModelCheckpoint, ReduceLROnPlateau\n",
    "from keras.layers import Conv1D, Input, Dense, concatenate, Flatten, Add, Activation, BatchNormalization, Reshape\n",
    "from keras import Model\n",
    "import tensorflow as tf"
   ]
  },
  {
   "cell_type": "code",
   "execution_count": 2,
   "metadata": {},
   "outputs": [],
   "source": [
    "import pandas as pd\n",
    "import numpy as np\n",
    "\n",
    "data1 = pd.read_csv(\"GSE2034-Normal-train.txt\", sep=\"\\t\")\n",
    "data2 = pd.read_csv(\"GSE2034-Tumor-train.txt\", sep=\"\\t\")\n",
    "# data format:\n",
    "# ----------- HEADER LINE ------------\n",
    "# 2 s1g1 s2g1 s3g1 ... sng1\n",
    "# 9 s1g2 s2ge s3g2 ... sng2\n",
    "#          ...........\n",
    "# k s1g12634 s2g12634 ... sng12634\n",
    "# use data1.head() to see\n",
    "data1 = data1.values[:,1:].transpose()\n",
    "data2 = data2.values[:,1:].transpose()\n",
    "data1Label = np.zeros(len(data1)).reshape((-1, 1))\n",
    "data2Label = np.ones(len(data2)).reshape((-1, 1))\n",
    "x = np.concatenate((data1, data2))\n",
    "y = np.concatenate((data1Label, data2Label))"
   ]
  },
  {
   "cell_type": "code",
   "execution_count": 5,
   "metadata": {},
   "outputs": [],
   "source": [
    "dim = 12634\n",
    "def res1d(x1, layers, kernel=(3,), strides=1,):    \n",
    "    ConvLayer = k.layers.Conv1D        \n",
    "    normalizer = BatchNormalization\n",
    "\n",
    "    c1 = x1        \n",
    "    c1 = ConvLayer(layers, kernel_size=kernel, use_bias=0, strides=strides, padding='same')(c1)        \n",
    "    c1 = normalizer(gamma_initializer='zeros')(c1)\n",
    "    \n",
    "    o1 = x1\n",
    "    if strides > 1 or K.int_shape(x1)[-1] != layers:\n",
    "        if strides > 1:\n",
    "            o1 = k.layers.ZeroPadding1D((0, strides-1))(o1)\n",
    "            o1 = k.layers.AveragePooling1D(strides)(o1)\n",
    "        o1 = ConvLayer(layers, kernel_size=1, use_bias=0, padding='same')(o1)\n",
    "        o1 = normalizer()(o1)\n",
    "\n",
    "    v1 = Add()([c1, o1])\n",
    "#     v1 = K.print_tensor(v1, message=\"debug\")\n",
    "    v1 = Activation('relu')(v1)\n",
    "    return v1\n",
    "\n",
    "def build():\n",
    "    inp = Input(shape=(dim,)) # length of input\n",
    "    \n",
    "    v1 = k.layers.Reshape((-1, 1))(inp)\n",
    "    v1 = res1d(v1, 4, 3)\n",
    "\n",
    "    model = k.models.Model(inputs=inp, outputs=v1)\n",
    "    return model"
   ]
  },
  {
   "cell_type": "code",
   "execution_count": 6,
   "metadata": {},
   "outputs": [],
   "source": [
    "model = build()\n"
   ]
  },
  {
   "cell_type": "code",
   "execution_count": 7,
   "metadata": {},
   "outputs": [
    {
     "name": "stdout",
     "output_type": "stream",
     "text": [
      "WARNING:tensorflow:From /home/h/houruomu/.local/lib/python3.6/site-packages/keras/backend/tensorflow_backend.py:422: The name tf.global_variables is deprecated. Please use tf.compat.v1.global_variables instead.\n",
      "\n"
     ]
    },
    {
     "data": {
      "text/plain": [
       "array([[[0.        , 0.        , 0.        , 0.79088026],\n",
       "        [0.        , 0.        , 0.        , 0.9241283 ],\n",
       "        [1.0362788 , 0.79011816, 1.1310408 , 0.        ],\n",
       "        ...,\n",
       "        [0.5068423 , 0.3864455 , 0.5531903 , 0.        ],\n",
       "        [0.        , 0.        , 0.        , 0.41297406],\n",
       "        [0.06686865, 0.05098448, 0.07298343, 0.        ]],\n",
       "\n",
       "       [[0.        , 0.        , 0.        , 0.99642897],\n",
       "        [0.        , 0.        , 0.        , 0.53948694],\n",
       "        [1.6861612 , 1.2856256 , 1.8403516 , 0.        ],\n",
       "        ...,\n",
       "        [1.4361778 , 1.095024  , 1.5675087 , 0.        ],\n",
       "        [0.        , 0.        , 0.        , 0.30074403],\n",
       "        [0.        , 0.        , 0.        , 0.01920642]],\n",
       "\n",
       "       [[0.        , 0.        , 0.        , 0.79586226],\n",
       "        [0.        , 0.        , 0.        , 1.2229016 ],\n",
       "        [1.4840771 , 1.1315452 , 1.619788  , 0.        ],\n",
       "        ...,\n",
       "        [0.72284216, 0.55113614, 0.7889422 , 0.        ],\n",
       "        [0.        , 0.        , 0.        , 0.25550598],\n",
       "        [0.        , 0.        , 0.        , 0.26587427]],\n",
       "\n",
       "       ...,\n",
       "\n",
       "       [[0.        , 0.        , 0.        , 0.7920058 ],\n",
       "        [0.        , 0.        , 0.        , 1.3455681 ],\n",
       "        [0.2616424 , 0.1994911 , 0.28556818, 0.        ],\n",
       "        ...,\n",
       "        [1.4890727 , 1.135354  , 1.6252404 , 0.        ],\n",
       "        [0.        , 0.        , 0.        , 0.2489897 ],\n",
       "        [0.        , 0.        , 0.        , 0.74178386]],\n",
       "\n",
       "       [[0.        , 0.        , 0.        , 0.8934548 ],\n",
       "        [0.        , 0.        , 0.        , 0.9457286 ],\n",
       "        [0.54645467, 0.4166483 , 0.59642506, 0.        ],\n",
       "        ...,\n",
       "        [0.5816661 , 0.44349548, 0.63485634, 0.        ],\n",
       "        [0.        , 0.        , 0.        , 0.30040953],\n",
       "        [0.        , 0.        , 0.        , 0.1096212 ]],\n",
       "\n",
       "       [[0.        , 0.        , 0.        , 0.8793693 ],\n",
       "        [0.        , 0.        , 0.        , 1.1871616 ],\n",
       "        [0.        , 0.        , 0.        , 0.5950963 ],\n",
       "        ...,\n",
       "        [1.7884979 , 1.363653  , 1.9520464 , 0.        ],\n",
       "        [0.19484992, 0.14856471, 0.21266791, 0.        ],\n",
       "        [0.        , 0.        , 0.        , 0.13348617]]], dtype=float32)"
      ]
     },
     "execution_count": 7,
     "metadata": {},
     "output_type": "execute_result"
    }
   ],
   "source": [
    "model.compile(optimizer=k.optimizers.Adam(lr=0.0001), metrics=['acc'], loss='binary_crossentropy')\n",
    "model.predict(data1)"
   ]
  },
  {
   "cell_type": "code",
   "execution_count": null,
   "metadata": {},
   "outputs": [],
   "source": []
  }
 ],
 "metadata": {
  "kernelspec": {
   "display_name": "Python 3",
   "language": "python",
   "name": "python3"
  },
  "language_info": {
   "codemirror_mode": {
    "name": "ipython",
    "version": 3
   },
   "file_extension": ".py",
   "mimetype": "text/x-python",
   "name": "python",
   "nbconvert_exporter": "python",
   "pygments_lexer": "ipython3",
   "version": "3.6.8"
  }
 },
 "nbformat": 4,
 "nbformat_minor": 2
}
